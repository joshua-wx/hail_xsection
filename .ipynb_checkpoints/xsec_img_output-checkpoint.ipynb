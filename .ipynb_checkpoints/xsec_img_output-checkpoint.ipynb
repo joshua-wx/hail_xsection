{
 "cells": [
  {
   "cell_type": "code",
   "execution_count": null,
   "metadata": {},
   "outputs": [],
   "source": [
    "\"\"\"\n",
    "This script generates the subplots for figure 4\n",
    "These are generated using the resized cross section photos, annotations stored in the json file and maximum dimension file\n",
    "\"\"\""
   ]
  },
  {
   "cell_type": "code",
   "execution_count": 3,
   "metadata": {},
   "outputs": [],
   "source": [
    "import os\n",
    "import gc\n",
    "from glob import glob\n",
    "import warnings\n",
    "import json\n",
    "import math\n",
    "\n",
    "from matplotlib import pyplot as plt\n",
    "import numpy as np\n",
    "import pandas as pd\n",
    "\n",
    "import cv2 as cv\n",
    "\n",
    "warnings.simplefilter(\"ignore\")"
   ]
  },
  {
   "cell_type": "code",
   "execution_count": 11,
   "metadata": {},
   "outputs": [],
   "source": [
    "image_folder = '/home/meso/data/cross-section-paper-data/analysis/cropped_photos'\n",
    "out_root = '/home/meso/data/cross-section-paper-data/analysis/resized_photos'\n",
    "centres_json_ffn = '/home/meso/data/cross-section-paper-data/analysis/cropped_photos/melb_20200119_hail.json'\n",
    "reference_csv_ffn = '/home/meso/data/cross-section-paper-data/analysis/cropped_photos/xsec_reference_measurements.csv'"
   ]
  },
  {
   "cell_type": "code",
   "execution_count": 12,
   "metadata": {},
   "outputs": [],
   "source": [
    "#build arguments for worker function\n",
    "\n",
    "#read reference sizes\n",
    "df = pd.read_csv(reference_csv_ffn)\n",
    "\n",
    "#build image file and centroid arguments from json\n",
    "image_args_list = []\n",
    "with open(centres_json_ffn) as json_fh:  \n",
    "    data = json.load(json_fh)\n",
    "    for item in data.keys():\n",
    "        #extract image name and id\n",
    "        img_fn = data[item]['filename']\n",
    "        img_id = int(img_fn[0:2])\n",
    "        #init objects\n",
    "        ref_coord = None\n",
    "        #extract shape objects\n",
    "        for shape in data[item]['regions']:\n",
    "            shape = shape['shape_attributes']\n",
    "            if shape['name'] == 'polyline':\n",
    "                ref_coord = [shape['all_points_x'], shape['all_points_y']]    \n",
    "        #check for missing metadata\n",
    "        if ref_coord == None:\n",
    "            print('error: missing json data for if', img_id)\n",
    "            continue\n",
    "        #extract reference measurement\n",
    "        try:\n",
    "            img_ref_mm = float(df.size_mm[df.id==img_id])\n",
    "        except:\n",
    "            print('error: failed to find reference measurement to match id', img_id)\n",
    "            continue\n",
    "        #build args\n",
    "        image_args_list.append((f'{image_folder}/{img_fn}', ref_coord, img_ref_mm))"
   ]
  },
  {
   "cell_type": "code",
   "execution_count": 13,
   "metadata": {},
   "outputs": [],
   "source": [
    "#main function to gerneate images\n",
    "def worker(image_ffn, ref_coord, img_ref_mm):\n",
    "    \n",
    "    #get image index\n",
    "    img_fn = os.path.basename(image_ffn)\n",
    "    img_id = int(img_fn[0:2])\n",
    "    print('plotting', img_id)\n",
    "    #work out pixel scaling\n",
    "    ref_coord_x = ref_coord[0]\n",
    "    ref_coord_y = ref_coord[1]\n",
    "    ref_len = np.sqrt((ref_coord_x[0]-ref_coord_x[1])**2 + (ref_coord_y[0]-ref_coord_y[1])**2)\n",
    "    ref_pix_mm = ref_len/img_ref_mm\n",
    "    #load image\n",
    "    img_data = cv.imread(image_ffn)\n",
    "    img_data_hls = cv.cvtColor(img_data, cv.COLOR_BGR2HLS)\n",
    "    lum_img = img_data_hls[:,:,1]\n",
    "    img_size = np.shape(lum_img)\n",
    "    #create subplot\n",
    "    fig = plt.figure(figsize=[10,10])\n",
    "    fig.set_facecolor('k')\n",
    "    ax = plt.subplot(111)\n",
    "    ax.set_xlim((-30,30))\n",
    "    ax.set_ylim((-30,30))\n",
    "    ax.set_aspect('equal')\n",
    "    ax.set_facecolor('k')\n",
    "    x = (np.arange(0,img_size[1])-int(img_size[1]/2))/ref_pix_mm\n",
    "    y = (np.arange(0,img_size[0])-int(img_size[0]/2))/ref_pix_mm\n",
    "    plt.pcolor(x, y, np.flipud(lum_img), cmap='gray')\n",
    "    #draw grids\n",
    "    grid_coord = [-25,-15,-5,5,15,25]\n",
    "    for i in grid_coord:\n",
    "        plt.plot([i,i],[-30,30],'w:', lw=1.5)\n",
    "        plt.plot([-30,30],[i,i],'w:', lw=1.5)\n",
    "    ax.set_axis_off()\n",
    "    plt.savefig(f'{out_root}/resized_{os.path.basename(image_ffn)}', bbox_inches='tight', pad_inches=0)\n",
    "    plt.clf()\n",
    "    plt.close('all')\n",
    "    gc.collect()"
   ]
  },
  {
   "cell_type": "code",
   "execution_count": null,
   "metadata": {},
   "outputs": [
    {
     "name": "stdout",
     "output_type": "stream",
     "text": [
      "plotting 1\n"
     ]
    }
   ],
   "source": [
    "#run worker for each hailstone\n",
    "for item in image_args_list:\n",
    "    worker(*item)"
   ]
  },
  {
   "cell_type": "code",
   "execution_count": 18,
   "metadata": {},
   "outputs": [
    {
     "data": {
      "text/plain": [
       "1011111"
      ]
     },
     "execution_count": 18,
     "metadata": {},
     "output_type": "execute_result"
    }
   ],
   "source": [
    "#create blank plots\n",
    "\n",
    "#create subplot\n",
    "fig = plt.figure(figsize=[10,10])\n",
    "fig.set_facecolor('k')\n",
    "ax = plt.subplot(111)\n",
    "ax.set_xlim((-30,30))\n",
    "ax.set_ylim((-30,30))\n",
    "ax.set_aspect('equal')\n",
    "ax.set_facecolor('k')\n",
    "#draw grids\n",
    "grid_coord = [-25,-15,-5,5,15,25]\n",
    "for i in grid_coord:\n",
    "    plt.plot([i,i],[-30,30],'w:', lw=0.5)\n",
    "    plt.plot([-30,30],[i,i],'w:', lw=0.5)\n",
    "ax.set_axis_off()\n",
    "plt.savefig(f'{out_root}/resized_blank.png', bbox_inches='tight', pad_inches=0)\n",
    "plt.clf()\n",
    "plt.close('all')\n",
    "gc.collect()"
   ]
  }
 ],
 "metadata": {
  "kernelspec": {
   "display_name": "Python 3 (ipykernel)",
   "language": "python",
   "name": "python3"
  },
  "language_info": {
   "codemirror_mode": {
    "name": "ipython",
    "version": 3
   },
   "file_extension": ".py",
   "mimetype": "text/x-python",
   "name": "python",
   "nbconvert_exporter": "python",
   "pygments_lexer": "ipython3",
   "version": "3.10.4"
  }
 },
 "nbformat": 4,
 "nbformat_minor": 4
}
