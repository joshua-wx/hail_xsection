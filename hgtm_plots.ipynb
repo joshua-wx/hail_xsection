{
 "cells": [
  {
   "cell_type": "code",
   "execution_count": null,
   "id": "2d0365f3-fe07-4f95-90bd-9dd3599f2ecb",
   "metadata": {},
   "outputs": [],
   "source": [
    "\"\"\"\n",
    "This script generates the subplots for figure 8\n",
    "These are generated using the timeseries outputs from the HGTM\n",
    "\"\"\""
   ]
  },
  {
   "cell_type": "code",
   "execution_count": 30,
   "id": "039bd46a-8520-497c-bf10-ab2b5745a9fd",
   "metadata": {},
   "outputs": [],
   "source": [
    "import netCDF4 as nc\n",
    "import numpy as np\n",
    "from matplotlib import pyplot as plt"
   ]
  },
  {
   "cell_type": "code",
   "execution_count": 31,
   "id": "f093e7fe-a0e2-4b27-8787-235c5cee2571",
   "metadata": {},
   "outputs": [],
   "source": [
    "diameter_nc_ffn = '/home/meso/Insync/onedrive/sync/papers/hail-xsec_paper/hgtm-output/growth_timeseries.nc'\n",
    "regime_nc_ffn = '/home/meso/Insync/onedrive/sync/papers/hail-xsec_paper/hgtm-output/growth_regime.nc'\n",
    "output_file_folder = '/home/meso/Insync/onedrive/sync/papers/hail-xsec_paper/hgtm-output/xsecs_images'"
   ]
  },
  {
   "cell_type": "code",
   "execution_count": 32,
   "id": "c9ac0fb6-c8d2-42e4-82f5-a1fc6bd56aa4",
   "metadata": {},
   "outputs": [],
   "source": [
    "#read required datasets\n",
    "with nc.Dataset(diameter_nc_ffn) as ncid:\n",
    "    diameters = ncid['GROWTH_TIMESERIES_ALL'][:] #diameters (in mm)\n",
    "with nc.Dataset(regime_nc_ffn) as ncid:\n",
    "    regimes = ncid['GROWTH_REGIME_ALL'][:] #regime, where 1 is wet growth and 0 is dry growth"
   ]
  },
  {
   "cell_type": "code",
   "execution_count": 42,
   "id": "cdd446fd-57fb-4224-8c79-dd2070c35c9f",
   "metadata": {},
   "outputs": [],
   "source": [
    "ignore_list = [2,10,11] #reduce number of samples to match observation (select to preserve bin count)\n",
    "n_hail = np.shape(diameters)[1]"
   ]
  },
  {
   "cell_type": "code",
   "execution_count": 46,
   "id": "217900f7-acce-474e-9ef9-8f7577b5b14e",
   "metadata": {},
   "outputs": [],
   "source": [
    "#loop for each hailstone\n",
    "for hail_idx in range(n_hail):\n",
    "    #skip hailstone if in ignore list\n",
    "    if hail_idx in ignore_list:\n",
    "        continue\n",
    "    \n",
    "    #extract dataset\n",
    "    hail_diameter_ts = diameters[:,hail_idx]\n",
    "    hail_regime_ts = regime[:,hail_idx]\n",
    "    nan_mask = np.isnan(hail_diameter_ts)\n",
    "    hail_diameter_ts = hail_diameter_ts[~nan_mask]/2\n",
    "    hail_regime_ts = hail_regime_ts[~nan_mask]\n",
    "    \n",
    "    \n",
    "    # set up figure\n",
    "    fig = plt.figure(figsize=[10, 10])\n",
    "    fig.set_facecolor(\"k\")\n",
    "    ax = plt.subplot(111)\n",
    "    ax.set_aspect(\"equal\")\n",
    "    ax.set_facecolor(\"k\")\n",
    "    \n",
    "    # draw entire hail\n",
    "    max_radius = np.max(hail_diameter_ts)\n",
    "    background = plt.Circle((0, 0), max_radius, color=[0.5, 0.5, 0.5])\n",
    "    ax.add_artist(background)\n",
    "    \n",
    "    #for each timestep\n",
    "    for i in range(len(hail_diameter_ts)):\n",
    "        #add layers in reverse\n",
    "        if hail_regime_ts[-i] == +1:\n",
    "            #wet growth\n",
    "            layer = plt.Circle((0, 0), hail_diameter_ts[-i], color=[0.5, 0.5, 0.5])\n",
    "        else:\n",
    "            #dry growth\n",
    "            layer = plt.Circle((0, 0), hail_diameter_ts[-i], color=[1.0, 1.0, 1.0])\n",
    "        ax.add_artist(layer)\n",
    "    \n",
    "    # draw embryo\n",
    "    embryo = plt.Circle((0, 0), hail_diameter_ts[0], color=[1.0, 1.0, 1.0])\n",
    "    ax.add_artist(embryo)\n",
    "    \n",
    "    # draw grids on plot\n",
    "    grid_coord = [-35, -25, -15, -5, 5, 15, 25, 35]\n",
    "    for i in grid_coord:\n",
    "        plt.plot([i, i], [-40, 40], \"y:\", lw=2)\n",
    "        plt.plot([-40, 40], [i, i], \"y:\", lw=2)\n",
    "    ax.set_xlim((-40, 40))\n",
    "    ax.set_ylim((-40, 40))\n",
    "    \n",
    "    # export plot\n",
    "    ax.set_axis_off()\n",
    "    plt.savefig(\n",
    "        f\"{output_file_folder}/hgtm_eq_{hail_idx+1:02}.png\",\n",
    "        bbox_inches=\"tight\",\n",
    "        pad_inches=0,\n",
    "    )\n",
    "    plt.clf()\n",
    "    plt.close(\"all\")"
   ]
  }
 ],
 "metadata": {
  "kernelspec": {
   "display_name": "Python 3 (ipykernel)",
   "language": "python",
   "name": "python3"
  },
  "language_info": {
   "codemirror_mode": {
    "name": "ipython",
    "version": 3
   },
   "file_extension": ".py",
   "mimetype": "text/x-python",
   "name": "python",
   "nbconvert_exporter": "python",
   "pygments_lexer": "ipython3",
   "version": "3.10.4"
  }
 },
 "nbformat": 4,
 "nbformat_minor": 5
}
